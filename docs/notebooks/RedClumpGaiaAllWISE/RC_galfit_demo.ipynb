{
 "cells": [
  {
   "cell_type": "markdown",
   "id": "577d8c67-b5e8-471c-830a-e47de75cec74",
   "metadata": {},
   "source": [
    "This notebook demonstrates a use case of modelling the Galactic disc density using Red Clump giants while accounting for the Selection function"
   ]
  },
  {
   "cell_type": "markdown",
   "id": "247d2326-b118-4bf9-89a4-16324197f6d9",
   "metadata": {},
   "source": [
    "We begin by importing the necessary dependencies that are placed inside the rcdemo subdirectory. We will also create a temporary directory to place data generated in this notebook, and a directory for all figures generated."
   ]
  },
  {
   "cell_type": "code",
   "execution_count": 10,
   "id": "48099a7e-673d-45b8-bf16-ecb971626dc7",
   "metadata": {},
   "outputs": [
    {
     "name": "stdout",
     "output_type": "stream",
     "text": [
      "temporary data directory created at:/Users/shouryapro/Documents/pdoc_work/py_scripts/rcdemo/tempdir\n",
      "temporary figure directory created at:/Users/shouryapro/Documents/pdoc_work/py_scripts/rcdemo/figdir\n"
     ]
    }
   ],
   "source": [
    "import os, sys\n",
    "loc = os.getcwd()\n",
    "sys.path.insert(0,loc)\t \n",
    "from rcdemo.packages_to_import import *\n",
    "import rcdemo.packages_to_import as dtools\n",
    "\n",
    "# set path to temporary directory inside rcdemo\n",
    "tempdir = loc+'/rcdemo/tempdir'\n",
    "figdir = loc+'/rcdemo/figdir'\n",
    "os.system('rm -rf '+tempdir); os.system('mkdir '+tempdir)\n",
    "os.system('rm -rf '+figdir); os.system('mkdir '+figdir)\n",
    "print('temporary data directory created at:'+str(tempdir))\n",
    "print('temporary figure directory created at:'+str(figdir))"
   ]
  },
  {
   "cell_type": "markdown",
   "id": "3e410de2-2322-4f08-b254-fe88f96ea763",
   "metadata": {},
   "source": [
    "Let us generate a catalog of mock red clump like stars. We assume here, for simplicity, that the absolute magnitude in RC has a Gaussian like distribution, such that N(Mg,sigma_Mg). Using this, we can generate an artificial Luminosity function which we will later use to sample RC like stars from:\n",
    "\n",
    "### Luminosity function"
   ]
  },
  {
   "cell_type": "code",
   "execution_count": 14,
   "id": "6aa0f877-cbed-4399-bff4-e53379e42120",
   "metadata": {},
   "outputs": [
    {
     "name": "stdout",
     "output_type": "stream",
     "text": [
      "lumfunc_use .pkl written to /Users/shouryapro/Documents/pdoc_work/py_scripts/rcdemo/tempdir\n"
     ]
    },
    {
     "data": {
      "image/png": "[encoded data removed]",
      "text/plain": [
       "<Figure size 640x480 with 1 Axes>"
      ]
     },
     "metadata": {},
     "output_type": "display_data"
    }
   ],
   "source": [
    "# Generate RC Luminosity Function\n",
    "mgmin,mgmax = -1., 2.\n",
    "mg = numpy.linspace(mgmin,mgmax, 10000)\n",
    "ye = norm.pdf(mg,loc=0.44,scale=0.17)\t\n",
    "\n",
    "zm = interp1d(mg,ye,bounds_error=False,fill_value=(ye[0],ye[-1]))\t\t\t\n",
    "gridM_G = mg\n",
    "gridLF = zm(mg)\n",
    "gridLF = gridLF#/gridLF.max()\n",
    "\n",
    "lumfunc = {}\n",
    "lumfunc['gridM_G'] = gridM_G\n",
    "lumfunc['gridLF'] = gridLF\n",
    "\n",
    "# store the luminosity function as a pickle file in tempdir\n",
    "dtools.picklewrite(lumfunc,'lumfunc_use',tempdir)\n",
    "\n",
    "cdfval,mgmin,mgmax = dtools.pdf2cdf(ye,xv=mg,getlims=True,usesig=2)\n",
    "\n",
    "plt.close('all')\n",
    "plt.plot(mg,ye,'k.')\n",
    "plt.axvline(0.44,linestyle='--')\n",
    "plt.xlabel('Mg')\n",
    "plt.ylabel(r'$\\rho$')\n",
    "plt.savefig(figdir+'/lfrc.png')\n",
    "\n",
    "#--------------------------------------------------------------"
   ]
  },
  {
   "cell_type": "code",
   "execution_count": null,
   "id": "1da57cdf-1844-4006-81fd-11b1616b66b1",
   "metadata": {},
   "outputs": [],
   "source": []
  },
  {
   "cell_type": "code",
   "execution_count": null,
   "id": "909b6e2a-7b43-4eb6-983b-f13854bc4e02",
   "metadata": {},
   "outputs": [],
   "source": []
  },
  {
   "cell_type": "code",
   "execution_count": null,
   "id": "fafb6b94-55b1-4d40-8633-9c744c0666f4",
   "metadata": {},
   "outputs": [],
   "source": []
  },
  {
   "cell_type": "code",
   "execution_count": null,
   "id": "e4e7235c-2263-45f1-963b-473164e34bef",
   "metadata": {},
   "outputs": [],
   "source": []
  }
 ],
 "metadata": {
  "kernelspec": {
   "display_name": "Python 3 (ipykernel)",
   "language": "python",
   "name": "python3"
  },
  "language_info": {
   "codemirror_mode": {
    "name": "ipython",
    "version": 3
   },
   "file_extension": ".py",
   "mimetype": "text/x-python",
   "name": "python",
   "nbconvert_exporter": "python",
   "pygments_lexer": "ipython3",
   "version": "3.9.6"
  }
 },
 "nbformat": 4,
 "nbformat_minor": 5
}
