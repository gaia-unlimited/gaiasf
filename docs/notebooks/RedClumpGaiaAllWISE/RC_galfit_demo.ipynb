{
 "cells": [
  {
   "cell_type": "code",
   "execution_count": 1,
   "id": "f8cb6d7d-4f6c-48dc-8ecf-188c39d5372e",
   "metadata": {},
   "outputs": [],
   "source": [
    "# This notebook demonstrates a use case \n",
    "# of modelling the Galactic disc density using Red Clump giants\n",
    "# while accounting for the Selection function"
   ]
  },
  {
   "cell_type": "code",
   "execution_count": 10,
   "id": "48099a7e-673d-45b8-bf16-ecb971626dc7",
   "metadata": {},
   "outputs": [
    {
     "name": "stdout",
     "output_type": "stream",
     "text": [
      "1234\n"
     ]
    }
   ],
   "source": [
    "print('test')\n",
    "\n",
    "import os, sys\n",
    "loc = os.getcwd()\n",
    "sys.path.insert(0,loc)\t \n",
    "from rcdemo.packages_to_import import *\n",
    "import rcdemo.dtools as dtools\n"
   ]
  },
  {
   "cell_type": "code",
   "execution_count": 12,
   "id": "706ba15d-1e20-44be-a889-e84953000100",
   "metadata": {},
   "outputs": [
    {
     "data": {
      "text/plain": [
       "'/Users/shouryapro/Documents/pdoc_work/py_scripts'"
      ]
     },
     "execution_count": 12,
     "metadata": {},
     "output_type": "execute_result"
    }
   ],
   "source": [
    "loc"
   ]
  },
  {
   "cell_type": "code",
   "execution_count": 30,
   "id": "1da57cdf-1844-4006-81fd-11b1616b66b1",
   "metadata": {},
   "outputs": [],
   "source": []
  },
  {
   "cell_type": "code",
   "execution_count": null,
   "id": "909b6e2a-7b43-4eb6-983b-f13854bc4e02",
   "metadata": {},
   "outputs": [],
   "source": []
  },
  {
   "cell_type": "code",
   "execution_count": null,
   "id": "fafb6b94-55b1-4d40-8633-9c744c0666f4",
   "metadata": {},
   "outputs": [],
   "source": []
  },
  {
   "cell_type": "code",
   "execution_count": null,
   "id": "e4e7235c-2263-45f1-963b-473164e34bef",
   "metadata": {},
   "outputs": [],
   "source": []
  }
 ],
 "metadata": {
  "kernelspec": {
   "display_name": "Python 3 (ipykernel)",
   "language": "python",
   "name": "python3"
  },
  "language_info": {
   "codemirror_mode": {
    "name": "ipython",
    "version": 3
   },
   "file_extension": ".py",
   "mimetype": "text/x-python",
   "name": "python",
   "nbconvert_exporter": "python",
   "pygments_lexer": "ipython3",
   "version": "3.9.6"
  }
 },
 "nbformat": 4,
 "nbformat_minor": 5
}
