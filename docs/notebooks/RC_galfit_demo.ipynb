{
 "cells": [
  {
   "cell_type": "code",
   "execution_count": 11,
   "id": "f8cb6d7d-4f6c-48dc-8ecf-188c39d5372e",
   "metadata": {},
   "outputs": [],
   "source": [
    "# This notebook demonstrates a use case \n",
    "# of modelling the Galactic disc density using Red Clump giants\n",
    "# while accounting for the Selection function"
   ]
  },
  {
   "cell_type": "code",
   "execution_count": null,
   "id": "48099a7e-673d-45b8-bf16-ecb971626dc7",
   "metadata": {},
   "outputs": [],
   "source": []
  },
  {
   "cell_type": "code",
   "execution_count": null,
   "id": "706ba15d-1e20-44be-a889-e84953000100",
   "metadata": {},
   "outputs": [],
   "source": []
  },
  {
   "cell_type": "code",
   "execution_count": null,
   "id": "1da57cdf-1844-4006-81fd-11b1616b66b1",
   "metadata": {},
   "outputs": [],
   "source": []
  },
  {
   "cell_type": "code",
   "execution_count": null,
   "id": "909b6e2a-7b43-4eb6-983b-f13854bc4e02",
   "metadata": {},
   "outputs": [],
   "source": []
  }
 ],
 "metadata": {
  "kernelspec": {
   "display_name": "Python 3 (ipykernel)",
   "language": "python",
   "name": "python3"
  },
  "language_info": {
   "codemirror_mode": {
    "name": "ipython",
    "version": 3
   },
   "file_extension": ".py",
   "mimetype": "text/x-python",
   "name": "python",
   "nbconvert_exporter": "python",
   "pygments_lexer": "ipython3",
   "version": "3.9.12"
  }
 },
 "nbformat": 4,
 "nbformat_minor": 5
}
