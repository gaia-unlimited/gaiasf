{
 "cells": [
  {
   "cell_type": "markdown",
   "id": "b05f33ae-3543-4fdd-9491-9af69d15d2d5",
   "metadata": {},
   "source": [
    "# 5. Domain"
   ]
  },
  {
   "cell_type": "code",
   "execution_count": 1,
   "id": "d01a2a0a-acec-4191-b534-6f73591886df",
   "metadata": {},
   "outputs": [
    {
     "name": "stdout",
     "output_type": "stream",
     "text": [
      "hpx_order=7 --> (hpx_nside=128, hpx_npix=196608)\n",
      "model_hpx_order=5 --> (model_hpx_nside=32, model_hpx_npix=12288)\n"
     ]
    }
   ],
   "source": [
    "import pathlib\n",
    "\n",
    "import config\n",
    "from domain import Domain\n",
    "from projector import Projector"
   ]
  },
  {
   "cell_type": "code",
   "execution_count": 2,
   "id": "1ff7db0b-5fb3-41d3-be27-902506c9e7df",
   "metadata": {},
   "outputs": [],
   "source": [
    "cache_path = pathlib.Path(config.cache_path)\n",
    "cache_path.mkdir(exist_ok=True)\n",
    "\n",
    "fig_path = pathlib.Path(config.fig_path)\n",
    "fig_path.mkdir(exist_ok=True)"
   ]
  },
  {
   "cell_type": "code",
   "execution_count": 3,
   "id": "381b95f9-7e4f-4337-90dd-252d6274842e",
   "metadata": {},
   "outputs": [],
   "source": [
    "hpx_order = config.model_hpx_order\n",
    "hpx_nside = config.model_hpx_nside\n",
    "hpx_npix = config.model_hpx_npix"
   ]
  },
  {
   "cell_type": "markdown",
   "id": "3552397b-c093-4f6f-bc4c-1589dd8fbb88",
   "metadata": {},
   "source": [
    "## Setup domain"
   ]
  },
  {
   "cell_type": "code",
   "execution_count": 4,
   "id": "659c6ed7-91ae-4f80-9aa9-c7033c3690a5",
   "metadata": {},
   "outputs": [],
   "source": [
    "dom = Domain().make(hpx_nside, Dlim=(0.01, 18.0), Dnum=42)\n",
    "dom._info = f\"HEALPix {hpx_order}; whole sky\""
   ]
  },
  {
   "cell_type": "code",
   "execution_count": 5,
   "id": "43e3c3f9-4ec5-441e-8de2-dd549fe03dd3",
   "metadata": {},
   "outputs": [],
   "source": [
    "# Save domain\n",
    "dom.save(cache_path / f\"domain_hpx{hpx_order}_wholesky.npz\")"
   ]
  },
  {
   "cell_type": "markdown",
   "id": "ca23b7fc-56c4-4b65-bca0-f38df2ac3a2b",
   "metadata": {},
   "source": [
    "## Setup projector"
   ]
  },
  {
   "cell_type": "code",
   "execution_count": 6,
   "id": "db812696-0260-44f5-a8cb-33abc6862d14",
   "metadata": {},
   "outputs": [
    {
     "name": "stderr",
     "output_type": "stream",
     "text": [
      "100%|██████████████████████████████████████████████████████████████████████████████████| 12288/12288 [00:30<00:00, 405.46it/s]\n"
     ]
    }
   ],
   "source": [
    "proj = Projector().make(dom)"
   ]
  },
  {
   "cell_type": "code",
   "execution_count": 7,
   "id": "feecb8e5-dd41-4693-940a-9008f80a2d37",
   "metadata": {},
   "outputs": [],
   "source": [
    "# Save projector\n",
    "proj.save(cache_path / f\"projector_hpx{hpx_order}_wholesky.npz\")"
   ]
  },
  {
   "cell_type": "code",
   "execution_count": null,
   "id": "5f84ddc1-d918-4ae7-8de0-471b60312bcd",
   "metadata": {},
   "outputs": [],
   "source": []
  }
 ],
 "metadata": {
  "kernelspec": {
   "display_name": "Python 3 (ipykernel)",
   "language": "python",
   "name": "python3"
  },
  "language_info": {
   "codemirror_mode": {
    "name": "ipython",
    "version": 3
   },
   "file_extension": ".py",
   "mimetype": "text/x-python",
   "name": "python",
   "nbconvert_exporter": "python",
   "pygments_lexer": "ipython3",
   "version": "3.11.9"
  }
 },
 "nbformat": 4,
 "nbformat_minor": 5
}
