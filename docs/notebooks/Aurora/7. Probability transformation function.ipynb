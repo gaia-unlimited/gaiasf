{
 "cells": [
  {
   "cell_type": "markdown",
   "id": "f3f35c70",
   "metadata": {},
   "source": [
    "# 7. Probability transformation function"
   ]
  },
  {
   "cell_type": "code",
   "execution_count": 47,
   "id": "dbac36a3",
   "metadata": {},
   "outputs": [],
   "source": [
    "import pathlib\n",
    "from tqdm import tqdm\n",
    "\n",
    "import numpy as np\n",
    "import scipy as sp\n",
    "from scipy.special import erf\n",
    "import pandas as pd\n",
    "\n",
    "from astropy_healpix import HEALPix\n",
    "from astropy.coordinates import SkyCoord\n",
    "\n",
    "import matplotlib.pyplot as plt\n",
    "\n",
    "import config\n",
    "import utils\n",
    "from domain import Domain"
   ]
  },
  {
   "cell_type": "code",
   "execution_count": 2,
   "id": "2bab3b62-6b07-4de1-8f2f-5c1a0265e9b5",
   "metadata": {},
   "outputs": [],
   "source": [
    "cache_path = pathlib.Path(config.cache_path)\n",
    "cache_path.mkdir(exist_ok=True)\n",
    "\n",
    "fig_path = pathlib.Path(config.fig_path)\n",
    "fig_path.mkdir(exist_ok=True)"
   ]
  },
  {
   "cell_type": "markdown",
   "id": "89195343-4cf4-4101-b8dc-8f27464d0045",
   "metadata": {},
   "source": [
    "## Load everything"
   ]
  },
  {
   "cell_type": "markdown",
   "id": "554318ff-0c7a-4cb0-9a91-a9bf35a3d5ee",
   "metadata": {},
   "source": [
    "### Load domain"
   ]
  },
  {
   "cell_type": "code",
   "execution_count": 3,
   "id": "0119dcbc-b748-4111-be02-c01ef17664fb",
   "metadata": {},
   "outputs": [],
   "source": [
    "dom = Domain().load(cache_path / 'domain_hpx5_wholesky.npz')\n",
    "hpx_nside = dom.nside\n",
    "hpx_ipix  = dom.ipix\n",
    "D_edgs = dom.D_\n",
    "D  = dom.D\n",
    "dD = dom.dD\n",
    "\n",
    "hpx_order = int(np.log2(hpx_nside))\n",
    "hpx_npix = 12 * 4**hpx_order"
   ]
  },
  {
   "cell_type": "markdown",
   "id": "3947bb75-3ce8-41e2-97fc-10f3471a5528",
   "metadata": {},
   "source": [
    "### Load AG map"
   ]
  },
  {
   "cell_type": "code",
   "execution_count": 4,
   "id": "b9256711-dae3-46d3-b181-2963cc3d3ccd",
   "metadata": {},
   "outputs": [
    {
     "name": "stdout",
     "output_type": "stream",
     "text": [
      "shape(AG_map0) = (196608,)\n",
      "shape(AG_map) = (12288,)\n"
     ]
    }
   ],
   "source": [
    "res = np.load(cache_path / 'am_map.npz')\n",
    "AG_map0 = res['ag_map']\n",
    "print(\"shape(AG_map0) =\", AG_map0.shape)\n",
    "\n",
    "# Downscale the map if necessary\n",
    "AG_map = np.zeros(hpx_npix)\n",
    "if hpx_order < 7:\n",
    "    for i0 in range(AG_map0.shape[0]):\n",
    "        i = i0 // 4**(7-hpx_order)\n",
    "        AG_map[i] += AG_map0[i0] / 4**(7-hpx_order)\n",
    "print(\"shape(AG_map) =\", AG_map.shape)"
   ]
  },
  {
   "cell_type": "markdown",
   "id": "d2c4e654-6a24-48e5-91bd-d7c1b0326dd7",
   "metadata": {},
   "source": [
    "### Load the model for parallax error"
   ]
  },
  {
   "cell_type": "code",
   "execution_count": null,
   "id": "2d8fb755-fa55-422d-92d3-0de760221d8f",
   "metadata": {},
   "outputs": [],
   "source": [
    "f = cache_path / 'logplxerr_nvis_g.npz'\n",
    "res = np.load(f, allow_pickle=True)\n",
    "nvis_bins = res['nvis_bins']\n",
    "plxerr_nvis_g = pd.DataFrame(dict(res['plxerr_nvis_g'].tolist())).T"
   ]
  },
  {
   "cell_type": "markdown",
   "id": "6716daca-bd08-4586-b0a6-f70cc62fb035",
   "metadata": {},
   "source": [
    "### Load statistics on the parallax errors"
   ]
  },
  {
   "cell_type": "code",
   "execution_count": 34,
   "id": "a8c363e4-1a4d-4395-9cba-4ef9c659ce94",
   "metadata": {},
   "outputs": [
    {
     "data": {
      "text/html": [
       "<div>\n",
       "<style scoped>\n",
       "    .dataframe tbody tr th:only-of-type {\n",
       "        vertical-align: middle;\n",
       "    }\n",
       "\n",
       "    .dataframe tbody tr th {\n",
       "        vertical-align: top;\n",
       "    }\n",
       "\n",
       "    .dataframe thead th {\n",
       "        text-align: right;\n",
       "    }\n",
       "</style>\n",
       "<table border=\"1\" class=\"dataframe\">\n",
       "  <thead>\n",
       "    <tr style=\"text-align: right;\">\n",
       "      <th></th>\n",
       "      <th>hpx</th>\n",
       "      <th>g_bin</th>\n",
       "      <th>parallax_error</th>\n",
       "      <th>visibility_periods_used</th>\n",
       "    </tr>\n",
       "  </thead>\n",
       "  <tbody>\n",
       "    <tr>\n",
       "      <th>0</th>\n",
       "      <td>115097</td>\n",
       "      <td>90.431837</td>\n",
       "      <td>NaN</td>\n",
       "      <td>5.0</td>\n",
       "    </tr>\n",
       "    <tr>\n",
       "      <th>1</th>\n",
       "      <td>51930</td>\n",
       "      <td>93.920902</td>\n",
       "      <td>1.402338</td>\n",
       "      <td>11.0</td>\n",
       "    </tr>\n",
       "    <tr>\n",
       "      <th>2</th>\n",
       "      <td>51971</td>\n",
       "      <td>96.581129</td>\n",
       "      <td>NaN</td>\n",
       "      <td>7.0</td>\n",
       "    </tr>\n",
       "    <tr>\n",
       "      <th>3</th>\n",
       "      <td>62925</td>\n",
       "      <td>95.783810</td>\n",
       "      <td>2.076251</td>\n",
       "      <td>10.0</td>\n",
       "    </tr>\n",
       "    <tr>\n",
       "      <th>4</th>\n",
       "      <td>129137</td>\n",
       "      <td>72.139887</td>\n",
       "      <td>0.037037</td>\n",
       "      <td>23.0</td>\n",
       "    </tr>\n",
       "    <tr>\n",
       "      <th>...</th>\n",
       "      <td>...</td>\n",
       "      <td>...</td>\n",
       "      <td>...</td>\n",
       "      <td>...</td>\n",
       "    </tr>\n",
       "    <tr>\n",
       "      <th>9983129</th>\n",
       "      <td>193153</td>\n",
       "      <td>94.197821</td>\n",
       "      <td>0.916554</td>\n",
       "      <td>15.0</td>\n",
       "    </tr>\n",
       "    <tr>\n",
       "      <th>9983130</th>\n",
       "      <td>9024</td>\n",
       "      <td>96.154636</td>\n",
       "      <td>NaN</td>\n",
       "      <td>12.0</td>\n",
       "    </tr>\n",
       "    <tr>\n",
       "      <th>9983131</th>\n",
       "      <td>114811</td>\n",
       "      <td>91.732077</td>\n",
       "      <td>NaN</td>\n",
       "      <td>7.0</td>\n",
       "    </tr>\n",
       "    <tr>\n",
       "      <th>9983132</th>\n",
       "      <td>12966</td>\n",
       "      <td>92.579426</td>\n",
       "      <td>0.658761</td>\n",
       "      <td>15.0</td>\n",
       "    </tr>\n",
       "    <tr>\n",
       "      <th>9983133</th>\n",
       "      <td>122047</td>\n",
       "      <td>91.663813</td>\n",
       "      <td>0.602893</td>\n",
       "      <td>15.0</td>\n",
       "    </tr>\n",
       "  </tbody>\n",
       "</table>\n",
       "<p>9983134 rows × 4 columns</p>\n",
       "</div>"
      ],
      "text/plain": [
       "            hpx      g_bin  parallax_error  visibility_periods_used\n",
       "0        115097  90.431837             NaN                      5.0\n",
       "1         51930  93.920902        1.402338                     11.0\n",
       "2         51971  96.581129             NaN                      7.0\n",
       "3         62925  95.783810        2.076251                     10.0\n",
       "4        129137  72.139887        0.037037                     23.0\n",
       "...         ...        ...             ...                      ...\n",
       "9983129  193153  94.197821        0.916554                     15.0\n",
       "9983130    9024  96.154636             NaN                     12.0\n",
       "9983131  114811  91.732077             NaN                      7.0\n",
       "9983132   12966  92.579426        0.658761                     15.0\n",
       "9983133  122047  91.663813        0.602893                     15.0\n",
       "\n",
       "[9983134 rows x 4 columns]"
      ]
     },
     "execution_count": 34,
     "metadata": {},
     "output_type": "execute_result"
    }
   ],
   "source": [
    "pe0 = pd.read_hdf(cache_path / 'dr3_plxerr_stats.hdf5', key='df')\n",
    "pe0"
   ]
  },
  {
   "cell_type": "code",
   "execution_count": 35,
   "id": "05b0cb00-69da-4413-acc1-6a6031f4a588",
   "metadata": {},
   "outputs": [
    {
     "name": "stdout",
     "output_type": "stream",
     "text": [
      "NaNs:\n",
      "hpx                              0\n",
      "g_bin                        14518\n",
      "parallax_error             1886571\n",
      "visibility_periods_used          0\n",
      "dtype: int64\n"
     ]
    }
   ],
   "source": [
    "print(\"NaNs:\")\n",
    "print(pe0.isna().sum())\n",
    "\n",
    "pe = pe0[pe0['g_bin']>=0].copy()\n",
    "pe.dropna(inplace=True)\n",
    "\n",
    "peh = pe.groupby('hpx').agg(nvis=('visibility_periods_used', 'median')).reset_index()\n",
    "peh['nvis_bin'] = pd.cut(peh['nvis'], bins=nvis_bins).astype(str)\n",
    "\n",
    "del(pe0)\n",
    "del(pe)"
   ]
  },
  {
   "cell_type": "code",
   "execution_count": 36,
   "id": "92324b1a-2466-4caa-8460-8daf73e5d0ee",
   "metadata": {},
   "outputs": [
    {
     "data": {
      "text/html": [
       "<div>\n",
       "<style scoped>\n",
       "    .dataframe tbody tr th:only-of-type {\n",
       "        vertical-align: middle;\n",
       "    }\n",
       "\n",
       "    .dataframe tbody tr th {\n",
       "        vertical-align: top;\n",
       "    }\n",
       "\n",
       "    .dataframe thead th {\n",
       "        text-align: right;\n",
       "    }\n",
       "</style>\n",
       "<table border=\"1\" class=\"dataframe\">\n",
       "  <thead>\n",
       "    <tr style=\"text-align: right;\">\n",
       "      <th></th>\n",
       "      <th>hpx</th>\n",
       "      <th>nvis</th>\n",
       "      <th>nvis_bin</th>\n",
       "    </tr>\n",
       "  </thead>\n",
       "  <tbody>\n",
       "    <tr>\n",
       "      <th>0</th>\n",
       "      <td>0</td>\n",
       "      <td>12.0</td>\n",
       "      <td>(2.0, 14.0]</td>\n",
       "    </tr>\n",
       "    <tr>\n",
       "      <th>1</th>\n",
       "      <td>1</td>\n",
       "      <td>14.5</td>\n",
       "      <td>(14.0, 15.0]</td>\n",
       "    </tr>\n",
       "    <tr>\n",
       "      <th>2</th>\n",
       "      <td>2</td>\n",
       "      <td>16.0</td>\n",
       "      <td>(15.0, 16.0]</td>\n",
       "    </tr>\n",
       "    <tr>\n",
       "      <th>3</th>\n",
       "      <td>3</td>\n",
       "      <td>16.0</td>\n",
       "      <td>(15.0, 16.0]</td>\n",
       "    </tr>\n",
       "    <tr>\n",
       "      <th>4</th>\n",
       "      <td>5</td>\n",
       "      <td>15.0</td>\n",
       "      <td>(14.0, 15.0]</td>\n",
       "    </tr>\n",
       "    <tr>\n",
       "      <th>...</th>\n",
       "      <td>...</td>\n",
       "      <td>...</td>\n",
       "      <td>...</td>\n",
       "    </tr>\n",
       "    <tr>\n",
       "      <th>193935</th>\n",
       "      <td>196603</td>\n",
       "      <td>16.0</td>\n",
       "      <td>(15.0, 16.0]</td>\n",
       "    </tr>\n",
       "    <tr>\n",
       "      <th>193936</th>\n",
       "      <td>196604</td>\n",
       "      <td>15.5</td>\n",
       "      <td>(15.0, 16.0]</td>\n",
       "    </tr>\n",
       "    <tr>\n",
       "      <th>193937</th>\n",
       "      <td>196605</td>\n",
       "      <td>14.0</td>\n",
       "      <td>(2.0, 14.0]</td>\n",
       "    </tr>\n",
       "    <tr>\n",
       "      <th>193938</th>\n",
       "      <td>196606</td>\n",
       "      <td>16.0</td>\n",
       "      <td>(15.0, 16.0]</td>\n",
       "    </tr>\n",
       "    <tr>\n",
       "      <th>193939</th>\n",
       "      <td>196607</td>\n",
       "      <td>14.5</td>\n",
       "      <td>(14.0, 15.0]</td>\n",
       "    </tr>\n",
       "  </tbody>\n",
       "</table>\n",
       "<p>193940 rows × 3 columns</p>\n",
       "</div>"
      ],
      "text/plain": [
       "           hpx  nvis      nvis_bin\n",
       "0            0  12.0   (2.0, 14.0]\n",
       "1            1  14.5  (14.0, 15.0]\n",
       "2            2  16.0  (15.0, 16.0]\n",
       "3            3  16.0  (15.0, 16.0]\n",
       "4            5  15.0  (14.0, 15.0]\n",
       "...        ...   ...           ...\n",
       "193935  196603  16.0  (15.0, 16.0]\n",
       "193936  196604  15.5  (15.0, 16.0]\n",
       "193937  196605  14.0   (2.0, 14.0]\n",
       "193938  196606  16.0  (15.0, 16.0]\n",
       "193939  196607  14.5  (14.0, 15.0]\n",
       "\n",
       "[193940 rows x 3 columns]"
      ]
     },
     "execution_count": 36,
     "metadata": {},
     "output_type": "execute_result"
    }
   ],
   "source": [
    "peh"
   ]
  },
  {
   "cell_type": "markdown",
   "id": "27b439fa-84f4-41a8-ada3-76cfc7ce7eb9",
   "metadata": {},
   "source": [
    "### Load the XP selection function"
   ]
  },
  {
   "cell_type": "code",
   "execution_count": 37,
   "id": "ed8db915-2341-4126-ab4c-727b9996c1f3",
   "metadata": {},
   "outputs": [
    {
     "name": "stdout",
     "output_type": "stream",
     "text": [
      "shape(prb_xp) = (12288, 109)\n"
     ]
    }
   ],
   "source": [
    "fpath = cache_path / f\"sf_xp_hpx{hpx_order}_g.npz\"\n",
    "res = np.load(fpath)\n",
    "G_edgs = res['G_']\n",
    "#prb_xp = res['prb_xp']\n",
    "prb_xp = res['prb_xp_smo']\n",
    "print(\"shape(prb_xp) =\", prb_xp.shape)\n",
    "\n",
    "del(res)"
   ]
  },
  {
   "cell_type": "markdown",
   "id": "ad53bfde-c451-4d9b-8d0e-a0679ae8928c",
   "metadata": {},
   "source": [
    "### Load and prepare the luminosity function"
   ]
  },
  {
   "cell_type": "code",
   "execution_count": 38,
   "id": "820fe8fc-0ccb-4c02-bd88-94d2892e4f1c",
   "metadata": {},
   "outputs": [],
   "source": [
    "res = np.load('NGC_6397_lf.npz')\n",
    "M_hist = res['rgb_mg_hist']\n",
    "M_bins = res['rgb_mg_edges']"
   ]
  },
  {
   "cell_type": "code",
   "execution_count": 39,
   "id": "1f889d5a-7be9-4502-8211-103eeec0780c",
   "metadata": {},
   "outputs": [],
   "source": [
    "# Interpolate the LF\n",
    "M_ = 0.5*(M_bins[:-1] + M_bins[1:])\n",
    "fn_m_interp = sp.interpolate.interp1d(M_, M_hist, bounds_error=False, fill_value=(0.0, 0.0))\n",
    "M = np.linspace(M_[0], M_[-1], 161)\n",
    "Phi = fn_m_interp(M)"
   ]
  },
  {
   "cell_type": "code",
   "execution_count": 40,
   "id": "dd8b5588-fa93-4c36-92c3-5cfae49d6862",
   "metadata": {},
   "outputs": [
    {
     "name": "stdout",
     "output_type": "stream",
     "text": [
      "Normalization: 170.0\n"
     ]
    }
   ],
   "source": [
    "# Normalize the LF as a PDF\n",
    "C = np.trapz(Phi, M)\n",
    "Phi /= C\n",
    "print(\"Normalization:\", C)"
   ]
  },
  {
   "cell_type": "code",
   "execution_count": 41,
   "id": "e329df05-e0b8-4820-bcb4-db48eca31cb4",
   "metadata": {},
   "outputs": [
    {
     "data": {
      "image/png": "[encoded data removed]",
      "text/plain": [
       "<Figure size 314.961x236.22 with 1 Axes>"
      ]
     },
     "metadata": {},
     "output_type": "display_data"
    }
   ],
   "source": [
    "plt.rc('font', size=6.0)\n",
    "inch = 2.54  ## cm\n",
    "width, height = 8/inch, 6/inch\n",
    "plt.figure(figsize=(width, height), layout='constrained')\n",
    "plt.suptitle(\"Luminosity function\")\n",
    "\n",
    "plt.stairs(M_hist, M_bins)\n",
    "plt.plot(M, fn_m_interp(M), '.k')\n",
    "plt.xlabel(\"M [mag]\")\n",
    "plt.yscale('log')\n",
    "plt.ylim(ymin=1)\n",
    "\n",
    "plt.savefig(fig_path / 'lf.pdf')\n",
    "plt.show()\n",
    "plt.close()"
   ]
  },
  {
   "cell_type": "markdown",
   "id": "f1751c94-e65e-47a7-a685-c73a1b2d6809",
   "metadata": {},
   "source": [
    "## Evaluate the transformation function"
   ]
  },
  {
   "cell_type": "code",
   "execution_count": 48,
   "id": "b06ecc8f-5032-4866-b9ce-5a0ee602df39",
   "metadata": {},
   "outputs": [
    {
     "name": "stderr",
     "output_type": "stream",
     "text": [
      "100%|██████████████████████████████████████████████████████████████████████████████████| 12288/12288 [01:32<00:00, 133.13it/s]\n"
     ]
    }
   ],
   "source": [
    "G__ = 0.5*(G_edgs[:-1] + G_edgs[1:])\n",
    "\n",
    "# Dims: hpx, D, D'\n",
    "K = np.nan * np.zeros((len(hpx_ipix), len(D), len(D)))\n",
    "TF = K.copy()\n",
    "\n",
    "DD = D[None,:,None]\n",
    "DD_ = D[:,None,None]\n",
    "\n",
    "G_lim = 16.0\n",
    "q = 4.0\n",
    "for k, hpx in tqdm(enumerate(hpx_ipix), total=len(hpx_ipix)):\n",
    "    # Dims: D, D', M\n",
    "    GG = M[None,None,:] + AG_map[hpx] + 5.0*np.log10(DD) + 10.0\n",
    "\n",
    "    sigma_plx = np.inf * np.ones_like(GG)\n",
    "    nvis_bin = peh.iloc[hpx]['nvis_bin']\n",
    "    sigma_plx = 10**np.interp(GG, plxerr_nvis_g.loc[nvis_bin]['G'], plxerr_nvis_g.loc[nvis_bin]['logsigma_plx'])\n",
    "\n",
    "    # Magnitude selection\n",
    "    SF_mag = GG <= G_lim\n",
    "    # Parallax selection\n",
    "    SF_plx = 1/DD_ > q*sigma_plx\n",
    "    # XP selection\n",
    "    SF_xp_interp = sp.interpolate.interp1d(G__, prb_xp[hpx], bounds_error=False, fill_value=(0.0, 0.0))\n",
    "    SF_xp = SF_xp_interp(GG)\n",
    "\n",
    "    dTF = 0.5*erf((1/D_edgs[:-1,None,None] - 1.0/D[None,:,None]) / (np.sqrt(2)*sigma_plx)) \\\n",
    "        - 0.5*erf((1/D_edgs[1:,None,None] - 1.0/D[None,:,None]) / (np.sqrt(2)*sigma_plx))\n",
    "    K[hpx] = np.trapz(Phi[None,None,:] * (SF_mag & SF_plx).astype(float) * SF_xp * dTF, M, axis=-1)\n",
    "    TF[hpx] = K[hpx] * dom.dVol[None,:]\n",
    "\n",
    "    isnan = np.any(np.isnan(TF[hpx]))\n",
    "    if isnan:\n",
    "        print(f\"hpx={hpx}: NaN\")\n"
   ]
  },
  {
   "cell_type": "markdown",
   "id": "a40dfe8c-8816-4915-bbc9-ddb20ae45c43",
   "metadata": {},
   "source": [
    "## Make some plots"
   ]
  },
  {
   "cell_type": "code",
   "execution_count": 50,
   "id": "6c8ba8de-e0d9-435e-9228-4ca037bd09c3",
   "metadata": {},
   "outputs": [
    {
     "name": "stdout",
     "output_type": "stream",
     "text": [
      "ipix_: [7181 7596]\n"
     ]
    },
    {
     "data": {
      "image/png": "[encoded data removed]",
      "text/plain": [
       "<Figure size 640x480 with 2 Axes>"
      ]
     },
     "metadata": {},
     "output_type": "display_data"
    }
   ],
   "source": [
    "l = [ 0, 30]\n",
    "b = [-5,  7]\n",
    "co = SkyCoord(l, b, frame='galactic', unit='deg')\n",
    "hp = HEALPix(nside=hpx_nside, order='nested', frame='icrs')\n",
    "ipix_ = hp.skycoord_to_healpix(co)\n",
    "print(\"ipix_:\", ipix_)\n",
    "\n",
    "plt.figure()\n",
    "\n",
    "for i, hpx in enumerate(ipix_):\n",
    "    plt.subplot(1, 2, i+1)\n",
    "    plt.title(f\"(l,b) = ({co[i].l.deg}, {co[i].b.deg})\")\n",
    "\n",
    "    ih = np.argwhere(hpx_ipix == hpx)[0][0]\n",
    "    im = plt.plot(D, np.diag(K[ih]), '.-')\n",
    "    plt.xlabel(\"$D$ [kpc]\")\n",
    "\n",
    "plt.show()\n",
    "plt.close()"
   ]
  },
  {
   "cell_type": "code",
   "execution_count": 53,
   "id": "0a29a8de-5c44-4fcf-80b4-2574553fc421",
   "metadata": {},
   "outputs": [
    {
     "name": "stdout",
     "output_type": "stream",
     "text": [
      "ipix_: [7181 7596]\n",
      "D[18] = 8.12744 [kpc]\n"
     ]
    },
    {
     "data": {
      "image/png": "[encoded data removed]",
      "text/plain": [
       "<Figure size 669.291x629.921 with 4 Axes>"
      ]
     },
     "metadata": {},
     "output_type": "display_data"
    }
   ],
   "source": [
    "plt.rc('font', size=6.0)\n",
    "inch = 2.54  ## cm\n",
    "width, height = 17/inch, 16/inch\n",
    "plt.figure(figsize=(width, height), layout='constrained')\n",
    "plt.suptitle(\"TF density for the certain sky directions\")\n",
    "\n",
    "l = [ 0, 30]\n",
    "b = [-5,  7]\n",
    "co = SkyCoord(l, b, frame='galactic', unit='deg')\n",
    "hp = HEALPix(nside=hpx_nside, order='nested', frame='icrs')\n",
    "ipix_ = hp.skycoord_to_healpix(co)\n",
    "print(\"ipix_:\", ipix_)\n",
    "\n",
    "i = 18\n",
    "print(f\"D[{i}] = {D[i]:g} [kpc]\")\n",
    "for k, hpx in enumerate(ipix_):\n",
    "    plt.subplot(2, 2, k+1)\n",
    "    plt.title(f\"(l,b) = ({co[k].l.deg}, {co[k].b.deg})\")\n",
    "\n",
    "    ih = np.argwhere(hpx_ipix == hpx)[0][0]\n",
    "\n",
    "    plt.plot(D, K[ih,:,i], '-', label=f\"D' = {D[i]:.3g} kpc\")\n",
    "    plt.axvline(D[i], ls=':', c='k')\n",
    "    plt.xlabel(\"$D$ [kpc]\")\n",
    "\n",
    "    plt.legend(handlelength=0, loc='upper right', frameon=False)\n",
    "    #plt.yscale('log')\n",
    "\n",
    "for k, hpx in enumerate(ipix_):\n",
    "    plt.subplot(2, 2, 2+k+1)\n",
    "    plt.title(f\"(l,b) = ({co[k].l.deg}, {co[k].b.deg})\")\n",
    "\n",
    "    ih = np.argwhere(hpx_ipix == hpx)[0][0]\n",
    "\n",
    "    plt.plot(D, K[ih,i,:], '-', label=f\"D = {D[i]:.3g} kpc\")\n",
    "    plt.axvline(D[i], ls=':', c='k')\n",
    "    plt.xlabel(\"$D'$ [kpc]\")\n",
    "\n",
    "    plt.legend(handlelength=0, loc='upper right', frameon=False)\n",
    "    #plt.yscale('log')\n",
    "\n",
    "plt.show()\n",
    "#plt.savefig(fig_path / 'tf_1.pdf')\n",
    "plt.close()"
   ]
  },
  {
   "cell_type": "code",
   "execution_count": 55,
   "id": "6befad8b-1877-4850-b022-cd7e02b3cf6d",
   "metadata": {},
   "outputs": [
    {
     "name": "stdout",
     "output_type": "stream",
     "text": [
      "ipix_: [7181 7596]\n"
     ]
    },
    {
     "data": {
      "image/png": "[encoded data removed]",
      "text/plain": [
       "<Figure size 669.291x314.961 with 2 Axes>"
      ]
     },
     "metadata": {},
     "output_type": "display_data"
    }
   ],
   "source": [
    "plt.rc('font', size=6.0)\n",
    "inch = 2.54  ## cm\n",
    "width, height = 17/inch, 8/inch\n",
    "plt.figure(figsize=(width, height), layout='constrained')\n",
    "plt.suptitle(\"TF for the certain sky directions\")\n",
    "\n",
    "l = [ 0, 30]\n",
    "b = [-5,  7]\n",
    "co = SkyCoord(l, b, frame='galactic', unit='deg')\n",
    "hp = HEALPix(nside=hpx_nside, order='nested', frame='icrs')\n",
    "ipix_ = hp.skycoord_to_healpix(co)\n",
    "print(\"ipix_:\", ipix_)\n",
    "\n",
    "for i, hpx in enumerate(ipix_):\n",
    "    plt.subplot(1, 2, i+1)\n",
    "    plt.title(f\"(l,b) = ({co[i].l.deg}, {co[i].b.deg})\")\n",
    "\n",
    "    ih = np.argwhere(hpx_ipix == hpx)[0][0]\n",
    "    #im = plt.pcolormesh(D, D, CF[ih] * (D_[1:,None] - D_[:-1,None]) / (D_[None,1:] - D_[None,:-1]), norm=LogNorm(), rasterized=True)\n",
    "    im = plt.pcolormesh(D, D, K[ih], rasterized=True)\n",
    "    #plt.colorbar(im)\n",
    "    plt.xlabel(\"$D'$ [kpc]\")\n",
    "    plt.ylabel(\"$D$ [kpc]\")\n",
    "\n",
    "plt.show()\n",
    "#plt.savefig('fig/cf_2.pdf')\n",
    "plt.close()"
   ]
  },
  {
   "cell_type": "markdown",
   "id": "33a1f743-51bb-4b8b-ad17-b849da924e17",
   "metadata": {},
   "source": [
    "## Save the TF"
   ]
  },
  {
   "cell_type": "code",
   "execution_count": 57,
   "id": "4fffb09f-152c-4793-8f1f-faf9ac34542a",
   "metadata": {},
   "outputs": [
    {
     "name": "stdout",
     "output_type": "stream",
     "text": [
      "isnan(TF) = False\n"
     ]
    }
   ],
   "source": [
    "print(\"isnan(TF) =\", np.any(np.isnan(TF)))\n",
    "np.savez_compressed(cache_path / 'tf.npz', M=M, Phi=Phi, TF=TF)"
   ]
  },
  {
   "cell_type": "code",
   "execution_count": null,
   "id": "014a1a44-287d-4e7a-a361-094f210b60fe",
   "metadata": {},
   "outputs": [],
   "source": []
  }
 ],
 "metadata": {
  "kernelspec": {
   "display_name": "Python 3 (ipykernel)",
   "language": "python",
   "name": "python3"
  },
  "language_info": {
   "codemirror_mode": {
    "name": "ipython",
    "version": 3
   },
   "file_extension": ".py",
   "mimetype": "text/x-python",
   "name": "python",
   "nbconvert_exporter": "python",
   "pygments_lexer": "ipython3",
   "version": "3.11.9"
  }
 },
 "nbformat": 4,
 "nbformat_minor": 5
}
