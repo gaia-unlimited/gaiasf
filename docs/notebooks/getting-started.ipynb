{
 "cells": [
  {
   "cell_type": "markdown",
   "metadata": {},
   "source": [
    "# Selection Functions in Astronomical Data Modeling\n",
    "\n",
    "In this notebook, we provide an overview of what selection functions are, and we explain two different types of selection functions in this package that are meant to be *layered*.\n",
    "\n",
    "In addition to this page, the interested readers are refered to [Rix et al. 2021][Rix2021]."
   ]
  },
  {
   "cell_type": "markdown",
   "metadata": {},
   "source": [
    "\n",
    "## What are selection functions?\n",
    "\n",
    "Simply put, a selection function of a given subset gives probabilities that a source in the parent set gets included in the subset as a function of its properties such as sky coordinates, apparent magnitude, color, etc. Thus, it should always return a value between 0 and 1, and it is always concerned with a particular subset of interest defined by one or more conditions.\n",
    "\n",
    "![sf-diagram](_static/sf-diagram.png)\n",
    "\n",
    "For example, if the parent set is all that is out there and the subset under consideration is what makes it into the Gaia source table (`gaia_source`) of a particular data release, say, DR3, this selection function is what we will refer to as DR3 survey selection function. The selection probability of this selection function summarizes all of the complicated processes involved in data taking and processing."
   ]
  },
  {
   "cell_type": "markdown",
   "metadata": {},
   "source": [
    "## When should you care about selection functions?\n",
    "\n",
    "In short, whenever you are interested in counting! Whenever we want to answer a question or constrain a model through data comparison, and when that model predicts densities, rates, or other incidences for objects with certain characteristics ([Rix et al. 2021][Rix2021]). If we are interested in how many of something are really there using an incomplete data, we want to know and account for how (in)complete the data is."
   ]
  },
  {
   "cell_type": "markdown",
   "metadata": {},
   "source": [
    "\n",
    "## Two different types of selection functions: Survey and Subsample\n",
    "\n",
    "In order to make Gaia selection functions manageable, we divide them into two disjoint layers:\n",
    "\n",
    "- **Survey Selection Function** which is an estimate of the probability that a source is included in the Gaia's data release (i.e., in that release's `gaia_source` table) as a function of sky coordinates and Gaia G magnitudes.\n",
    "- **Subsample Selection Function** which is an estimate of the probability that a source already in `gaia_source` is included in the subsample of interest (e.g., sources with RVs). We define these selection functions as a function of sky coordinates, Gaia G, and Gaia G - Gaia G_RP color.\n",
    "\n",
    "These two different types of selection functions are meant to be multiplied to yield the selection function for the subsample of Gaia that one is interested in. The survey selection function for a specific data release is the reusable component of the selection function regardless of what further cuts to the `gaia_source` table are made.\n",
    "\n",
    "This is illustrated in the figure below in parallel to the \"parent\" and \"sample\" selection functions introduced in [Rix et al. 2021][Rix2021].\n",
    "\n",
    "![survey-subsample](_static/survey-subsample.png)"
   ]
  },
  {
   "cell_type": "markdown",
   "metadata": {},
   "source": [
    "## Survey Selection Functions\n",
    "\n",
    "For Gaia DR3 survey selection function, please refer to [Empirical survey\n",
    "selection function for Gaia DR3](dr3-empirical-completeness.ipynb). In the\n",
    "current version, the survey selection function is complete ($P=1$) at $G<18$.\n",
    "See below for how the DR3 survey selection function changes with Gaia $G$\n",
    "magnitude from 18 to 22.\n",
    "\n",
    "![Animated DR3 Survey Selection Function on HEALPix order 5](_static/animated-dr3-survey.gif)"
   ]
  },
  {
   "cell_type": "markdown",
   "metadata": {},
   "source": [
    "## Subsample Selection Functions\n",
    "\n",
    "For subsample selection functions, we are considering any further cuts that one might make, defined in terms of Gaia variables. Thus, generally, it is not possible for us to come up with a comprehensive set, and in the future, we would like to provide functionalities in this package for researchers to construct their own Gaia subsample selection functions as needed.\n",
    "\n",
    "In the current version, we have a simple estimate of one particular subsample selection function, the RVS selection function for DR3. We detail the discussion of this in [Constructing selection functions: DR3 RVS as an example](dr3-rvs.ipynb)."
   ]
  },
  {
   "cell_type": "markdown",
   "metadata": {},
   "source": [
    "[Rix2021]: https://ui.adsabs.harvard.edu/abs/2021AJ....162..142R/abstract"
   ]
  }
 ],
 "metadata": {
  "interpreter": {
   "hash": "d8a5efb9d611438092b581ef797ac926337f213d80c61b7ac1fc782c142d570c"
  },
  "kernelspec": {
   "display_name": "Python 3 (ipykernel)",
   "language": "python",
   "name": "python3"
  },
  "language_info": {
   "codemirror_mode": {
    "name": "ipython",
    "version": 3
   },
   "file_extension": ".py",
   "mimetype": "text/x-python",
   "name": "python",
   "nbconvert_exporter": "python",
   "pygments_lexer": "ipython3",
   "version": "3.10.9"
  }
 },
 "nbformat": 4,
 "nbformat_minor": 4
}
